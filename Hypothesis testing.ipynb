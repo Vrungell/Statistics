{
 "cells": [
  {
   "cell_type": "code",
   "execution_count": 1,
   "metadata": {},
   "outputs": [
    {
     "name": "stderr",
     "output_type": "stream",
     "text": [
      "/Library/Frameworks/Python.framework/Versions/3.6/lib/python3.6/site-packages/statsmodels/compat/pandas.py:56: FutureWarning: The pandas.core.datetools module is deprecated and will be removed in a future version. Please use the pandas.tseries module instead.\n",
      "  from pandas.core import datetools\n"
     ]
    }
   ],
   "source": [
    "import numpy as np, scipy.stats as st\n",
    "import statsmodels.stats.api as sms\n",
    "import pandas as pd\n",
    "import matplotlib.pyplot as plt"
   ]
  },
  {
   "cell_type": "code",
   "execution_count": 163,
   "metadata": {},
   "outputs": [
    {
     "data": {
      "text/plain": [
       "0    дисперсия =100\n",
       "1           64.5657\n",
       "2           49.9998\n",
       "3           66.4977\n",
       "4           63.1773\n",
       "5           47.4837\n",
       "6            59.371\n",
       "7           67.3733\n",
       "8           53.9756\n",
       "9           73.7326\n",
       "Name: A, dtype: object"
      ]
     },
     "execution_count": 163,
     "metadata": {},
     "output_type": "execute_result"
    }
   ],
   "source": [
    "data =  pd.ExcelFile(\"/Users/uliakaliberda/Downloads/LabsMS/Lab3.xls\")\n",
    "df = data.parse(\"вар1\")\n",
    "first = pd.DataFrame()\n",
    "first[\"A\"] = df[\"X1\"]\n",
    "first[\"A\"][:10]"
   ]
  },
  {
   "cell_type": "code",
   "execution_count": 164,
   "metadata": {},
   "outputs": [],
   "source": [
    "a_0 = 65\n",
    "sigma_0 = 16\n",
    "alpha = 0.05"
   ]
  },
  {
   "cell_type": "code",
   "execution_count": 165,
   "metadata": {},
   "outputs": [
    {
     "data": {
      "text/plain": [
       "'дисперсия =100'"
      ]
     },
     "execution_count": 165,
     "metadata": {},
     "output_type": "execute_result"
    }
   ],
   "source": [
    "a = []\n",
    "for i in first[\"A\"]:\n",
    "   a.append(i)  \n",
    "a.pop(0)"
   ]
  },
  {
   "cell_type": "markdown",
   "metadata": {},
   "source": [
    "Task 1."
   ]
  },
  {
   "cell_type": "code",
   "execution_count": 166,
   "metadata": {},
   "outputs": [
    {
     "data": {
      "text/plain": [
       "63.32069715921534"
      ]
     },
     "execution_count": 166,
     "metadata": {},
     "output_type": "execute_result"
    }
   ],
   "source": [
    "norm = np.mean(a)\n",
    "norm"
   ]
  },
  {
   "cell_type": "code",
   "execution_count": 167,
   "metadata": {},
   "outputs": [
    {
     "data": {
      "text/plain": [
       "1.6448536269514722"
      ]
     },
     "execution_count": 167,
     "metadata": {},
     "output_type": "execute_result"
    }
   ],
   "source": [
    "quant = st.norm.ppf(0.95)\n",
    "quant #normal quantile"
   ]
  },
  {
   "cell_type": "code",
   "execution_count": 168,
   "metadata": {},
   "outputs": [
    {
     "data": {
      "text/plain": [
       "(40.05895408568187, 86.58244023274881)"
      ]
     },
     "execution_count": 168,
     "metadata": {},
     "output_type": "execute_result"
    }
   ],
   "source": [
    "d = 100;\n",
    "left = norm - quant*d/(len(a))**0.5\n",
    "right = norm + quant*d/(len(a))**0.5\n",
    "left, right #confidence interval\n"
   ]
  },
  {
   "cell_type": "code",
   "execution_count": 169,
   "metadata": {},
   "outputs": [
    {
     "name": "stdout",
     "output_type": "stream",
     "text": [
      "H0\n"
     ]
    }
   ],
   "source": [
    "if left<=a_0<=right:\n",
    "    print(\"H0\")\n",
    "else:\n",
    "    print(\"H1\")"
   ]
  },
  {
   "cell_type": "markdown",
   "metadata": {},
   "source": [
    "Task 2."
   ]
  },
  {
   "cell_type": "code",
   "execution_count": 170,
   "metadata": {},
   "outputs": [
    {
     "data": {
      "text/plain": [
       "65.24786265839793"
      ]
     },
     "execution_count": 170,
     "metadata": {},
     "output_type": "execute_result"
    }
   ],
   "source": [
    "first[\"B\"] = df[\"X2\"]\n",
    "a = []\n",
    "for i in first[\"B\"]:\n",
    "   a.append(i)  \n",
    "a.pop(0)\n",
    "norm = np.mean(a)\n",
    "norm #mean"
   ]
  },
  {
   "cell_type": "code",
   "execution_count": 171,
   "metadata": {},
   "outputs": [],
   "source": [
    "a_0 = 65"
   ]
  },
  {
   "cell_type": "code",
   "execution_count": 172,
   "metadata": {},
   "outputs": [
    {
     "data": {
      "text/plain": [
       "1.6686359756775713"
      ]
     },
     "execution_count": 172,
     "metadata": {},
     "output_type": "execute_result"
    }
   ],
   "source": [
    "sq = st.t.ppf(0.95,a_0)\n",
    "sq"
   ]
  },
  {
   "cell_type": "code",
   "execution_count": 173,
   "metadata": {},
   "outputs": [
    {
     "data": {
      "text/plain": [
       "243.34938003815404"
      ]
     },
     "execution_count": 173,
     "metadata": {},
     "output_type": "execute_result"
    }
   ],
   "source": [
    "s = [(a[i]-norm)**2 for i in range (len(a))]\n",
    "d = ((np.sum(s))/len(a)-1)\n",
    "d #chosen dispersion"
   ]
  },
  {
   "cell_type": "code",
   "execution_count": 174,
   "metadata": {},
   "outputs": [
    {
     "name": "stdout",
     "output_type": "stream",
     "text": [
      "H1\n",
      "0.11235204543260582\n"
     ]
    }
   ],
   "source": [
    "if (len(a))**0.5 * np.abs(norm - a_0)/d**0.5 > sq:\n",
    "    print(\"H0\")\n",
    "else:\n",
    "    print(\"H1\")\n",
    "print((len(a))**0.5 * np.abs(norm - a_0)/d**0.5)"
   ]
  },
  {
   "cell_type": "markdown",
   "metadata": {},
   "source": [
    "Task 3."
   ]
  },
  {
   "cell_type": "code",
   "execution_count": 175,
   "metadata": {},
   "outputs": [],
   "source": [
    "d_0 = 16"
   ]
  },
  {
   "cell_type": "code",
   "execution_count": 176,
   "metadata": {},
   "outputs": [
    {
     "name": "stdout",
     "output_type": "stream",
     "text": [
      "66.3386488629688 33.93030561852784\n"
     ]
    }
   ],
   "source": [
    "q1 = st.chi2.ppf(0.95,len(a)-1)\n",
    "q2 = st.chi2.ppf(0.05,len(a)-1)\n",
    "print(q1,q2) #quantiles"
   ]
  },
  {
   "cell_type": "code",
   "execution_count": 177,
   "metadata": {},
   "outputs": [
    {
     "name": "stdout",
     "output_type": "stream",
     "text": [
      "11.522443313711996 22.528041144858026\n"
     ]
    }
   ],
   "source": [
    "left = (len(a)-1)*(d**0.5)/q1;\n",
    "right = (len(a)-1)*(d**0.5)/q2;\n",
    "print(left,right) #interval"
   ]
  },
  {
   "cell_type": "code",
   "execution_count": 178,
   "metadata": {},
   "outputs": [
    {
     "name": "stdout",
     "output_type": "stream",
     "text": [
      "H0\n"
     ]
    }
   ],
   "source": [
    "if left<=d_0<=right:\n",
    "    print(\"H0\")\n",
    "else:\n",
    "    print(\"H1\")"
   ]
  },
  {
   "cell_type": "markdown",
   "metadata": {},
   "source": [
    "Task 4."
   ]
  },
  {
   "cell_type": "code",
   "execution_count": 179,
   "metadata": {},
   "outputs": [
    {
     "data": {
      "text/plain": [
       "66.18736602416902"
      ]
     },
     "execution_count": 179,
     "metadata": {},
     "output_type": "execute_result"
    }
   ],
   "source": [
    "d1 = 100\n",
    "d2 = 200\n",
    "first[\"C\"] = df[\"Y1\"]\n",
    "a = []\n",
    "b = []\n",
    "for i in first[\"B\"]:\n",
    "   b.append(i)  \n",
    "b.pop(0)\n",
    "normb = np.mean(b)\n",
    "normb #mean\n",
    "for i in first[\"C\"]:\n",
    "   a.append(i)  \n",
    "a.pop(0)\n",
    "norma = np.mean(a)\n",
    "norma #mean"
   ]
  },
  {
   "cell_type": "code",
   "execution_count": 180,
   "metadata": {},
   "outputs": [
    {
     "data": {
      "text/plain": [
       "0.02970970505230914"
      ]
     },
     "execution_count": 180,
     "metadata": {},
     "output_type": "execute_result"
    }
   ],
   "source": [
    "z = (norma-normb)*(d1**2/len(b) + d2**2/len(a))**(-0.5)\n",
    "z"
   ]
  },
  {
   "cell_type": "code",
   "execution_count": 181,
   "metadata": {},
   "outputs": [
    {
     "data": {
      "text/plain": [
       "-0.06270677794321385"
      ]
     },
     "execution_count": 181,
     "metadata": {},
     "output_type": "execute_result"
    }
   ],
   "source": [
    "quant = st.norm.ppf(0.475)\n",
    "quant"
   ]
  },
  {
   "cell_type": "code",
   "execution_count": 182,
   "metadata": {},
   "outputs": [
    {
     "name": "stdout",
     "output_type": "stream",
     "text": [
      "H0\n"
     ]
    }
   ],
   "source": [
    "if z>quant:\n",
    "    print(\"H0\")\n",
    "else:\n",
    "    print(\"H1\")"
   ]
  },
  {
   "cell_type": "markdown",
   "metadata": {},
   "source": [
    "Task 5."
   ]
  },
  {
   "cell_type": "code",
   "execution_count": 183,
   "metadata": {},
   "outputs": [
    {
     "data": {
      "text/plain": [
       "'дисперсия неизвестна'"
      ]
     },
     "execution_count": 183,
     "metadata": {},
     "output_type": "execute_result"
    }
   ],
   "source": [
    "first[\"D\"] = df[\"Y2\"]\n",
    "a = []\n",
    "b = []\n",
    "for i in first[\"D\"]:\n",
    "   a.append(i)  \n",
    "a.pop(0)\n",
    "for i in first[\"B\"]:\n",
    "   b.append(i)  \n",
    "b.pop(0)"
   ]
  },
  {
   "cell_type": "code",
   "execution_count": 184,
   "metadata": {},
   "outputs": [],
   "source": [
    "s1 =  [(a[i]-np.mean(a))**2 for i in range (len(a))]\n",
    "s1 = np.sum(s1)/len(a)\n",
    "s2 =  [(b[i]-np.mean(b))**2 for i in range (len(b))]\n",
    "s2 = np.sum(s2)/len(b)"
   ]
  },
  {
   "cell_type": "code",
   "execution_count": 185,
   "metadata": {},
   "outputs": [
    {
     "data": {
      "text/plain": [
       "0.24376208119350232"
      ]
     },
     "execution_count": 185,
     "metadata": {},
     "output_type": "execute_result"
    }
   ],
   "source": [
    "quant = st.norm.ppf(0.025)\n",
    "z = np.abs(np.mean(a)-np.mean(b))/((s1+s2)/len(a))**0.5\n",
    "z"
   ]
  },
  {
   "cell_type": "code",
   "execution_count": 186,
   "metadata": {},
   "outputs": [
    {
     "name": "stdout",
     "output_type": "stream",
     "text": [
      "H0\n"
     ]
    }
   ],
   "source": [
    "if z>quant:\n",
    "    print(\"H0\")\n",
    "else:\n",
    "    print(\"H1\")"
   ]
  },
  {
   "cell_type": "markdown",
   "metadata": {},
   "source": [
    "Task 6."
   ]
  },
  {
   "cell_type": "code",
   "execution_count": 187,
   "metadata": {},
   "outputs": [],
   "source": [
    "F = 1.565 #nearest IMHO"
   ]
  },
  {
   "cell_type": "code",
   "execution_count": 188,
   "metadata": {},
   "outputs": [],
   "source": [
    "s1 = [(a[i]-np.mean(a))**2 for i in range (len(a))]\n",
    "d1 = ((np.sum(s1))/len(a)-1)\n",
    "s2 = [(b[i]-np.mean(a))**2 for i in range (len(a))]\n",
    "d2 = ((np.sum(s2))/len(a)-1)"
   ]
  },
  {
   "cell_type": "code",
   "execution_count": 189,
   "metadata": {},
   "outputs": [
    {
     "name": "stdout",
     "output_type": "stream",
     "text": [
      "H1\n"
     ]
    }
   ],
   "source": [
    "if d2/d1>F:\n",
    "    print(\"H0\")\n",
    "else:\n",
    "    print(\"H1\")"
   ]
  },
  {
   "cell_type": "markdown",
   "metadata": {},
   "source": [
    "Task 7."
   ]
  },
  {
   "cell_type": "code",
   "execution_count": 190,
   "metadata": {
    "scrolled": true
   },
   "outputs": [
    {
     "data": {
      "text/html": [
       "<div>\n",
       "<style scoped>\n",
       "    .dataframe tbody tr th:only-of-type {\n",
       "        vertical-align: middle;\n",
       "    }\n",
       "\n",
       "    .dataframe tbody tr th {\n",
       "        vertical-align: top;\n",
       "    }\n",
       "\n",
       "    .dataframe thead th {\n",
       "        text-align: right;\n",
       "    }\n",
       "</style>\n",
       "<table border=\"1\" class=\"dataframe\">\n",
       "  <thead>\n",
       "    <tr style=\"text-align: right;\">\n",
       "      <th></th>\n",
       "      <th>A</th>\n",
       "      <th>B</th>\n",
       "      <th>C</th>\n",
       "      <th>D</th>\n",
       "      <th>E</th>\n",
       "      <th>F</th>\n",
       "      <th>G</th>\n",
       "      <th>H</th>\n",
       "    </tr>\n",
       "  </thead>\n",
       "  <tbody>\n",
       "    <tr>\n",
       "      <th>0</th>\n",
       "      <td>дисперсия =100</td>\n",
       "      <td>дисперсия неизвестна</td>\n",
       "      <td>дисперсия =9</td>\n",
       "      <td>дисперсия неизвестна</td>\n",
       "      <td>22.995792</td>\n",
       "      <td>26.014273</td>\n",
       "      <td>27.469176</td>\n",
       "      <td>29.726317</td>\n",
       "    </tr>\n",
       "    <tr>\n",
       "      <th>1</th>\n",
       "      <td>64.5657</td>\n",
       "      <td>89.0688</td>\n",
       "      <td>60.1029</td>\n",
       "      <td>80.6096</td>\n",
       "      <td>24.895072</td>\n",
       "      <td>28.787045</td>\n",
       "      <td>23.861704</td>\n",
       "      <td>19.854461</td>\n",
       "    </tr>\n",
       "    <tr>\n",
       "      <th>2</th>\n",
       "      <td>49.9998</td>\n",
       "      <td>76.9808</td>\n",
       "      <td>65.245</td>\n",
       "      <td>60.0976</td>\n",
       "      <td>23.414523</td>\n",
       "      <td>25.729378</td>\n",
       "      <td>25.816055</td>\n",
       "      <td>25.467553</td>\n",
       "    </tr>\n",
       "    <tr>\n",
       "      <th>3</th>\n",
       "      <td>66.4977</td>\n",
       "      <td>48.8252</td>\n",
       "      <td>65.6076</td>\n",
       "      <td>71.7814</td>\n",
       "      <td>23.088679</td>\n",
       "      <td>19.572354</td>\n",
       "      <td>28.354924</td>\n",
       "      <td>30.338334</td>\n",
       "    </tr>\n",
       "    <tr>\n",
       "      <th>4</th>\n",
       "      <td>63.1773</td>\n",
       "      <td>74.2908</td>\n",
       "      <td>63.5464</td>\n",
       "      <td>53.0822</td>\n",
       "      <td>25.308205</td>\n",
       "      <td>27.107472</td>\n",
       "      <td>20.833277</td>\n",
       "      <td>21.429679</td>\n",
       "    </tr>\n",
       "    <tr>\n",
       "      <th>5</th>\n",
       "      <td>47.4837</td>\n",
       "      <td>70.6952</td>\n",
       "      <td>69.4048</td>\n",
       "      <td>69.946</td>\n",
       "      <td>27.469160</td>\n",
       "      <td>26.860708</td>\n",
       "      <td>26.754173</td>\n",
       "      <td>23.210596</td>\n",
       "    </tr>\n",
       "    <tr>\n",
       "      <th>6</th>\n",
       "      <td>59.371</td>\n",
       "      <td>61.5038</td>\n",
       "      <td>67.4721</td>\n",
       "      <td>71.4135</td>\n",
       "      <td>21.568913</td>\n",
       "      <td>30.250176</td>\n",
       "      <td>26.117608</td>\n",
       "      <td>22.767382</td>\n",
       "    </tr>\n",
       "    <tr>\n",
       "      <th>7</th>\n",
       "      <td>67.3733</td>\n",
       "      <td>59.9363</td>\n",
       "      <td>60.8815</td>\n",
       "      <td>41.5623</td>\n",
       "      <td>25.979740</td>\n",
       "      <td>23.920493</td>\n",
       "      <td>27.636971</td>\n",
       "      <td>29.042940</td>\n",
       "    </tr>\n",
       "    <tr>\n",
       "      <th>8</th>\n",
       "      <td>53.9756</td>\n",
       "      <td>97.4018</td>\n",
       "      <td>71.7749</td>\n",
       "      <td>78.2559</td>\n",
       "      <td>24.358110</td>\n",
       "      <td>33.067727</td>\n",
       "      <td>25.987268</td>\n",
       "      <td>25.820428</td>\n",
       "    </tr>\n",
       "    <tr>\n",
       "      <th>9</th>\n",
       "      <td>73.7326</td>\n",
       "      <td>64.8147</td>\n",
       "      <td>61.8836</td>\n",
       "      <td>87.3146</td>\n",
       "      <td>23.285725</td>\n",
       "      <td>30.771544</td>\n",
       "      <td>23.765913</td>\n",
       "      <td>24.968022</td>\n",
       "    </tr>\n",
       "    <tr>\n",
       "      <th>10</th>\n",
       "      <td>60.8722</td>\n",
       "      <td>79.2068</td>\n",
       "      <td>71.5784</td>\n",
       "      <td>61.4979</td>\n",
       "      <td>24.309107</td>\n",
       "      <td>31.010450</td>\n",
       "      <td>28.479615</td>\n",
       "      <td>29.135300</td>\n",
       "    </tr>\n",
       "    <tr>\n",
       "      <th>11</th>\n",
       "      <td>58.4519</td>\n",
       "      <td>83.7872</td>\n",
       "      <td>62.6375</td>\n",
       "      <td>42.4217</td>\n",
       "      <td>25.668847</td>\n",
       "      <td>12.937044</td>\n",
       "      <td>22.828911</td>\n",
       "      <td>25.482960</td>\n",
       "    </tr>\n",
       "    <tr>\n",
       "      <th>12</th>\n",
       "      <td>85.6868</td>\n",
       "      <td>33.6099</td>\n",
       "      <td>66.6437</td>\n",
       "      <td>66.6736</td>\n",
       "      <td>29.389003</td>\n",
       "      <td>19.780082</td>\n",
       "      <td>27.745066</td>\n",
       "      <td>25.203727</td>\n",
       "    </tr>\n",
       "    <tr>\n",
       "      <th>13</th>\n",
       "      <td>76.5703</td>\n",
       "      <td>69.4063</td>\n",
       "      <td>72.1582</td>\n",
       "      <td>46.2579</td>\n",
       "      <td>25.197304</td>\n",
       "      <td>27.060160</td>\n",
       "      <td>28.999849</td>\n",
       "      <td>29.833164</td>\n",
       "    </tr>\n",
       "    <tr>\n",
       "      <th>14</th>\n",
       "      <td>42.9082</td>\n",
       "      <td>69.1852</td>\n",
       "      <td>64.5419</td>\n",
       "      <td>81.3794</td>\n",
       "      <td>23.901526</td>\n",
       "      <td>24.023917</td>\n",
       "      <td>21.872161</td>\n",
       "      <td>32.873932</td>\n",
       "    </tr>\n",
       "    <tr>\n",
       "      <th>15</th>\n",
       "      <td>65.9296</td>\n",
       "      <td>72.9044</td>\n",
       "      <td>70.1688</td>\n",
       "      <td>64.3279</td>\n",
       "      <td>24.983706</td>\n",
       "      <td>27.884453</td>\n",
       "      <td>23.326075</td>\n",
       "      <td>25.360797</td>\n",
       "    </tr>\n",
       "    <tr>\n",
       "      <th>16</th>\n",
       "      <td>63.4443</td>\n",
       "      <td>61.4472</td>\n",
       "      <td>60.1073</td>\n",
       "      <td>78.5294</td>\n",
       "      <td>27.557445</td>\n",
       "      <td>27.204069</td>\n",
       "      <td>26.203432</td>\n",
       "      <td>27.124370</td>\n",
       "    </tr>\n",
       "    <tr>\n",
       "      <th>17</th>\n",
       "      <td>88.1468</td>\n",
       "      <td>54.9894</td>\n",
       "      <td>65.9346</td>\n",
       "      <td>49.1899</td>\n",
       "      <td>27.862571</td>\n",
       "      <td>29.631702</td>\n",
       "      <td>25.747915</td>\n",
       "      <td>21.203369</td>\n",
       "    </tr>\n",
       "    <tr>\n",
       "      <th>18</th>\n",
       "      <td>49.6191</td>\n",
       "      <td>70.1196</td>\n",
       "      <td>64.6738</td>\n",
       "      <td>86.6011</td>\n",
       "      <td>26.596604</td>\n",
       "      <td>26.225917</td>\n",
       "      <td>29.195822</td>\n",
       "      <td>28.758396</td>\n",
       "    </tr>\n",
       "    <tr>\n",
       "      <th>19</th>\n",
       "      <td>69.9445</td>\n",
       "      <td>78.4126</td>\n",
       "      <td>64.9829</td>\n",
       "      <td>64.6069</td>\n",
       "      <td>29.238755</td>\n",
       "      <td>24.013194</td>\n",
       "      <td>22.065256</td>\n",
       "      <td>22.626528</td>\n",
       "    </tr>\n",
       "    <tr>\n",
       "      <th>20</th>\n",
       "      <td>70.2055</td>\n",
       "      <td>67.0043</td>\n",
       "      <td>66.4608</td>\n",
       "      <td>94.9195</td>\n",
       "      <td>26.317408</td>\n",
       "      <td>22.432105</td>\n",
       "      <td>23.871315</td>\n",
       "      <td>23.748399</td>\n",
       "    </tr>\n",
       "    <tr>\n",
       "      <th>21</th>\n",
       "      <td>57.2979</td>\n",
       "      <td>53.7745</td>\n",
       "      <td>68.0921</td>\n",
       "      <td>78.3597</td>\n",
       "      <td>26.609469</td>\n",
       "      <td>28.921887</td>\n",
       "      <td>28.510372</td>\n",
       "      <td>20.513017</td>\n",
       "    </tr>\n",
       "    <tr>\n",
       "      <th>22</th>\n",
       "      <td>74.7136</td>\n",
       "      <td>79.4769</td>\n",
       "      <td>66.3963</td>\n",
       "      <td>60.5781</td>\n",
       "      <td>21.515726</td>\n",
       "      <td>29.495605</td>\n",
       "      <td>29.224696</td>\n",
       "      <td>32.691160</td>\n",
       "    </tr>\n",
       "    <tr>\n",
       "      <th>23</th>\n",
       "      <td>64.2899</td>\n",
       "      <td>74.5662</td>\n",
       "      <td>62.7791</td>\n",
       "      <td>24.6468</td>\n",
       "      <td>25.014152</td>\n",
       "      <td>23.518711</td>\n",
       "      <td>26.942592</td>\n",
       "      <td>28.737514</td>\n",
       "    </tr>\n",
       "    <tr>\n",
       "      <th>24</th>\n",
       "      <td>66.8328</td>\n",
       "      <td>66.5144</td>\n",
       "      <td>71.3734</td>\n",
       "      <td>87.7508</td>\n",
       "      <td>27.136494</td>\n",
       "      <td>17.852972</td>\n",
       "      <td>25.318100</td>\n",
       "      <td>25.755845</td>\n",
       "    </tr>\n",
       "    <tr>\n",
       "      <th>25</th>\n",
       "      <td>62.0457</td>\n",
       "      <td>35.2955</td>\n",
       "      <td>64.3622</td>\n",
       "      <td>85.6367</td>\n",
       "      <td>27.649540</td>\n",
       "      <td>23.897310</td>\n",
       "      <td>25.387663</td>\n",
       "      <td>25.892123</td>\n",
       "    </tr>\n",
       "    <tr>\n",
       "      <th>26</th>\n",
       "      <td>68.7598</td>\n",
       "      <td>42.7683</td>\n",
       "      <td>67.6832</td>\n",
       "      <td>73.3268</td>\n",
       "      <td>27.686420</td>\n",
       "      <td>21.315191</td>\n",
       "      <td>22.259115</td>\n",
       "      <td>27.204424</td>\n",
       "    </tr>\n",
       "    <tr>\n",
       "      <th>27</th>\n",
       "      <td>54.821</td>\n",
       "      <td>63.0339</td>\n",
       "      <td>66.5577</td>\n",
       "      <td>62.4396</td>\n",
       "      <td>24.802390</td>\n",
       "      <td>26.297958</td>\n",
       "      <td>21.854726</td>\n",
       "      <td>25.116142</td>\n",
       "    </tr>\n",
       "    <tr>\n",
       "      <th>28</th>\n",
       "      <td>51.6111</td>\n",
       "      <td>55.2403</td>\n",
       "      <td>67.5204</td>\n",
       "      <td>65.1876</td>\n",
       "      <td>25.377454</td>\n",
       "      <td>22.529858</td>\n",
       "      <td>26.695422</td>\n",
       "      <td>21.100323</td>\n",
       "    </tr>\n",
       "    <tr>\n",
       "      <th>29</th>\n",
       "      <td>61.487</td>\n",
       "      <td>34.6666</td>\n",
       "      <td>67.1423</td>\n",
       "      <td>61.1668</td>\n",
       "      <td>22.531495</td>\n",
       "      <td>26.327671</td>\n",
       "      <td>19.176733</td>\n",
       "      <td>29.245476</td>\n",
       "    </tr>\n",
       "    <tr>\n",
       "      <th>30</th>\n",
       "      <td>63.2255</td>\n",
       "      <td>67.17</td>\n",
       "      <td>73.8335</td>\n",
       "      <td>61.29</td>\n",
       "      <td>27.200663</td>\n",
       "      <td>24.465526</td>\n",
       "      <td>23.527539</td>\n",
       "      <td>28.919413</td>\n",
       "    </tr>\n",
       "    <tr>\n",
       "      <th>31</th>\n",
       "      <td>70.3418</td>\n",
       "      <td>74.8108</td>\n",
       "      <td>66.0845</td>\n",
       "      <td>75.9346</td>\n",
       "      <td>22.023324</td>\n",
       "      <td>25.197906</td>\n",
       "      <td>25.081595</td>\n",
       "      <td>21.883639</td>\n",
       "    </tr>\n",
       "    <tr>\n",
       "      <th>32</th>\n",
       "      <td>66.9941</td>\n",
       "      <td>64.013</td>\n",
       "      <td>71.8289</td>\n",
       "      <td>75.4567</td>\n",
       "      <td>27.740962</td>\n",
       "      <td>25.470322</td>\n",
       "      <td>20.767862</td>\n",
       "      <td>20.868347</td>\n",
       "    </tr>\n",
       "    <tr>\n",
       "      <th>33</th>\n",
       "      <td>96.3667</td>\n",
       "      <td>85.117</td>\n",
       "      <td>66.0446</td>\n",
       "      <td>61.7686</td>\n",
       "      <td>27.382640</td>\n",
       "      <td>28.099808</td>\n",
       "      <td>24.061057</td>\n",
       "      <td>24.745701</td>\n",
       "    </tr>\n",
       "    <tr>\n",
       "      <th>34</th>\n",
       "      <td>69.7646</td>\n",
       "      <td>74.8649</td>\n",
       "      <td>65.5473</td>\n",
       "      <td>61.8484</td>\n",
       "      <td>23.996384</td>\n",
       "      <td>24.762258</td>\n",
       "      <td>24.816864</td>\n",
       "      <td>25.716627</td>\n",
       "    </tr>\n",
       "    <tr>\n",
       "      <th>35</th>\n",
       "      <td>47.7165</td>\n",
       "      <td>54.2101</td>\n",
       "      <td>67.3242</td>\n",
       "      <td>61.5639</td>\n",
       "      <td>29.299982</td>\n",
       "      <td>26.732760</td>\n",
       "      <td>26.559288</td>\n",
       "      <td>NaN</td>\n",
       "    </tr>\n",
       "    <tr>\n",
       "      <th>36</th>\n",
       "      <td>65.0501</td>\n",
       "      <td>17.2755</td>\n",
       "      <td>66.1011</td>\n",
       "      <td>50.3965</td>\n",
       "      <td>26.554454</td>\n",
       "      <td>23.459230</td>\n",
       "      <td>24.915192</td>\n",
       "      <td>NaN</td>\n",
       "    </tr>\n",
       "    <tr>\n",
       "      <th>37</th>\n",
       "      <td>70.3895</td>\n",
       "      <td>78.595</td>\n",
       "      <td>64.8288</td>\n",
       "      <td>28.2948</td>\n",
       "      <td>24.386880</td>\n",
       "      <td>27.900751</td>\n",
       "      <td>22.501398</td>\n",
       "      <td>NaN</td>\n",
       "    </tr>\n",
       "    <tr>\n",
       "      <th>38</th>\n",
       "      <td>58.807</td>\n",
       "      <td>40.4096</td>\n",
       "      <td>65.4382</td>\n",
       "      <td>73.8718</td>\n",
       "      <td>26.110948</td>\n",
       "      <td>30.987840</td>\n",
       "      <td>29.330609</td>\n",
       "      <td>NaN</td>\n",
       "    </tr>\n",
       "    <tr>\n",
       "      <th>39</th>\n",
       "      <td>73.397</td>\n",
       "      <td>75.1012</td>\n",
       "      <td>65.1898</td>\n",
       "      <td>70.4015</td>\n",
       "      <td>25.277582</td>\n",
       "      <td>22.624336</td>\n",
       "      <td>23.490671</td>\n",
       "      <td>NaN</td>\n",
       "    </tr>\n",
       "    <tr>\n",
       "      <th>40</th>\n",
       "      <td>74.822</td>\n",
       "      <td>69.2783</td>\n",
       "      <td>65.9127</td>\n",
       "      <td>78.8286</td>\n",
       "      <td>NaN</td>\n",
       "      <td>31.595255</td>\n",
       "      <td>25.577398</td>\n",
       "      <td>NaN</td>\n",
       "    </tr>\n",
       "    <tr>\n",
       "      <th>41</th>\n",
       "      <td>63.7417</td>\n",
       "      <td>51.4671</td>\n",
       "      <td>70.915</td>\n",
       "      <td>68.4338</td>\n",
       "      <td>NaN</td>\n",
       "      <td>26.021858</td>\n",
       "      <td>27.773797</td>\n",
       "      <td>NaN</td>\n",
       "    </tr>\n",
       "    <tr>\n",
       "      <th>42</th>\n",
       "      <td>49.9951</td>\n",
       "      <td>60.2993</td>\n",
       "      <td>65.8432</td>\n",
       "      <td>65.1291</td>\n",
       "      <td>NaN</td>\n",
       "      <td>27.976094</td>\n",
       "      <td>25.278663</td>\n",
       "      <td>NaN</td>\n",
       "    </tr>\n",
       "    <tr>\n",
       "      <th>43</th>\n",
       "      <td>63.8057</td>\n",
       "      <td>62.0452</td>\n",
       "      <td>62.8197</td>\n",
       "      <td>48.7553</td>\n",
       "      <td>NaN</td>\n",
       "      <td>32.710696</td>\n",
       "      <td>26.591688</td>\n",
       "      <td>NaN</td>\n",
       "    </tr>\n",
       "    <tr>\n",
       "      <th>44</th>\n",
       "      <td>59.1037</td>\n",
       "      <td>81.8477</td>\n",
       "      <td>63.9727</td>\n",
       "      <td>65.346</td>\n",
       "      <td>NaN</td>\n",
       "      <td>24.887532</td>\n",
       "      <td>27.289996</td>\n",
       "      <td>NaN</td>\n",
       "    </tr>\n",
       "    <tr>\n",
       "      <th>45</th>\n",
       "      <td>59.2342</td>\n",
       "      <td>84.6882</td>\n",
       "      <td>66.6466</td>\n",
       "      <td>81.2736</td>\n",
       "      <td>NaN</td>\n",
       "      <td>22.869991</td>\n",
       "      <td>NaN</td>\n",
       "      <td>NaN</td>\n",
       "    </tr>\n",
       "    <tr>\n",
       "      <th>46</th>\n",
       "      <td>48.2189</td>\n",
       "      <td>77.0647</td>\n",
       "      <td>66.8557</td>\n",
       "      <td>38.5209</td>\n",
       "      <td>NaN</td>\n",
       "      <td>20.957060</td>\n",
       "      <td>NaN</td>\n",
       "      <td>NaN</td>\n",
       "    </tr>\n",
       "    <tr>\n",
       "      <th>47</th>\n",
       "      <td>58.7178</td>\n",
       "      <td>56.3229</td>\n",
       "      <td>62.4991</td>\n",
       "      <td>63.3298</td>\n",
       "      <td>NaN</td>\n",
       "      <td>21.245406</td>\n",
       "      <td>NaN</td>\n",
       "      <td>NaN</td>\n",
       "    </tr>\n",
       "    <tr>\n",
       "      <th>48</th>\n",
       "      <td>47.3217</td>\n",
       "      <td>65.3919</td>\n",
       "      <td>65.6868</td>\n",
       "      <td>84.6421</td>\n",
       "      <td>NaN</td>\n",
       "      <td>24.963129</td>\n",
       "      <td>NaN</td>\n",
       "      <td>NaN</td>\n",
       "    </tr>\n",
       "    <tr>\n",
       "      <th>49</th>\n",
       "      <td>47.4086</td>\n",
       "      <td>77.2688</td>\n",
       "      <td>63.1016</td>\n",
       "      <td>57.4364</td>\n",
       "      <td>NaN</td>\n",
       "      <td>24.214856</td>\n",
       "      <td>NaN</td>\n",
       "      <td>NaN</td>\n",
       "    </tr>\n",
       "    <tr>\n",
       "      <th>50</th>\n",
       "      <td>71.7976</td>\n",
       "      <td>56.2251</td>\n",
       "      <td>65.1808</td>\n",
       "      <td>77.8355</td>\n",
       "      <td>NaN</td>\n",
       "      <td>NaN</td>\n",
       "      <td>NaN</td>\n",
       "      <td>NaN</td>\n",
       "    </tr>\n",
       "  </tbody>\n",
       "</table>\n",
       "</div>"
      ],
      "text/plain": [
       "                 A                     B             C                     D  \\\n",
       "0   дисперсия =100  дисперсия неизвестна  дисперсия =9  дисперсия неизвестна   \n",
       "1          64.5657               89.0688       60.1029               80.6096   \n",
       "2          49.9998               76.9808        65.245               60.0976   \n",
       "3          66.4977               48.8252       65.6076               71.7814   \n",
       "4          63.1773               74.2908       63.5464               53.0822   \n",
       "5          47.4837               70.6952       69.4048                69.946   \n",
       "6           59.371               61.5038       67.4721               71.4135   \n",
       "7          67.3733               59.9363       60.8815               41.5623   \n",
       "8          53.9756               97.4018       71.7749               78.2559   \n",
       "9          73.7326               64.8147       61.8836               87.3146   \n",
       "10         60.8722               79.2068       71.5784               61.4979   \n",
       "11         58.4519               83.7872       62.6375               42.4217   \n",
       "12         85.6868               33.6099       66.6437               66.6736   \n",
       "13         76.5703               69.4063       72.1582               46.2579   \n",
       "14         42.9082               69.1852       64.5419               81.3794   \n",
       "15         65.9296               72.9044       70.1688               64.3279   \n",
       "16         63.4443               61.4472       60.1073               78.5294   \n",
       "17         88.1468               54.9894       65.9346               49.1899   \n",
       "18         49.6191               70.1196       64.6738               86.6011   \n",
       "19         69.9445               78.4126       64.9829               64.6069   \n",
       "20         70.2055               67.0043       66.4608               94.9195   \n",
       "21         57.2979               53.7745       68.0921               78.3597   \n",
       "22         74.7136               79.4769       66.3963               60.5781   \n",
       "23         64.2899               74.5662       62.7791               24.6468   \n",
       "24         66.8328               66.5144       71.3734               87.7508   \n",
       "25         62.0457               35.2955       64.3622               85.6367   \n",
       "26         68.7598               42.7683       67.6832               73.3268   \n",
       "27          54.821               63.0339       66.5577               62.4396   \n",
       "28         51.6111               55.2403       67.5204               65.1876   \n",
       "29          61.487               34.6666       67.1423               61.1668   \n",
       "30         63.2255                 67.17       73.8335                 61.29   \n",
       "31         70.3418               74.8108       66.0845               75.9346   \n",
       "32         66.9941                64.013       71.8289               75.4567   \n",
       "33         96.3667                85.117       66.0446               61.7686   \n",
       "34         69.7646               74.8649       65.5473               61.8484   \n",
       "35         47.7165               54.2101       67.3242               61.5639   \n",
       "36         65.0501               17.2755       66.1011               50.3965   \n",
       "37         70.3895                78.595       64.8288               28.2948   \n",
       "38          58.807               40.4096       65.4382               73.8718   \n",
       "39          73.397               75.1012       65.1898               70.4015   \n",
       "40          74.822               69.2783       65.9127               78.8286   \n",
       "41         63.7417               51.4671        70.915               68.4338   \n",
       "42         49.9951               60.2993       65.8432               65.1291   \n",
       "43         63.8057               62.0452       62.8197               48.7553   \n",
       "44         59.1037               81.8477       63.9727                65.346   \n",
       "45         59.2342               84.6882       66.6466               81.2736   \n",
       "46         48.2189               77.0647       66.8557               38.5209   \n",
       "47         58.7178               56.3229       62.4991               63.3298   \n",
       "48         47.3217               65.3919       65.6868               84.6421   \n",
       "49         47.4086               77.2688       63.1016               57.4364   \n",
       "50         71.7976               56.2251       65.1808               77.8355   \n",
       "\n",
       "            E          F          G          H  \n",
       "0   22.995792  26.014273  27.469176  29.726317  \n",
       "1   24.895072  28.787045  23.861704  19.854461  \n",
       "2   23.414523  25.729378  25.816055  25.467553  \n",
       "3   23.088679  19.572354  28.354924  30.338334  \n",
       "4   25.308205  27.107472  20.833277  21.429679  \n",
       "5   27.469160  26.860708  26.754173  23.210596  \n",
       "6   21.568913  30.250176  26.117608  22.767382  \n",
       "7   25.979740  23.920493  27.636971  29.042940  \n",
       "8   24.358110  33.067727  25.987268  25.820428  \n",
       "9   23.285725  30.771544  23.765913  24.968022  \n",
       "10  24.309107  31.010450  28.479615  29.135300  \n",
       "11  25.668847  12.937044  22.828911  25.482960  \n",
       "12  29.389003  19.780082  27.745066  25.203727  \n",
       "13  25.197304  27.060160  28.999849  29.833164  \n",
       "14  23.901526  24.023917  21.872161  32.873932  \n",
       "15  24.983706  27.884453  23.326075  25.360797  \n",
       "16  27.557445  27.204069  26.203432  27.124370  \n",
       "17  27.862571  29.631702  25.747915  21.203369  \n",
       "18  26.596604  26.225917  29.195822  28.758396  \n",
       "19  29.238755  24.013194  22.065256  22.626528  \n",
       "20  26.317408  22.432105  23.871315  23.748399  \n",
       "21  26.609469  28.921887  28.510372  20.513017  \n",
       "22  21.515726  29.495605  29.224696  32.691160  \n",
       "23  25.014152  23.518711  26.942592  28.737514  \n",
       "24  27.136494  17.852972  25.318100  25.755845  \n",
       "25  27.649540  23.897310  25.387663  25.892123  \n",
       "26  27.686420  21.315191  22.259115  27.204424  \n",
       "27  24.802390  26.297958  21.854726  25.116142  \n",
       "28  25.377454  22.529858  26.695422  21.100323  \n",
       "29  22.531495  26.327671  19.176733  29.245476  \n",
       "30  27.200663  24.465526  23.527539  28.919413  \n",
       "31  22.023324  25.197906  25.081595  21.883639  \n",
       "32  27.740962  25.470322  20.767862  20.868347  \n",
       "33  27.382640  28.099808  24.061057  24.745701  \n",
       "34  23.996384  24.762258  24.816864  25.716627  \n",
       "35  29.299982  26.732760  26.559288        NaN  \n",
       "36  26.554454  23.459230  24.915192        NaN  \n",
       "37  24.386880  27.900751  22.501398        NaN  \n",
       "38  26.110948  30.987840  29.330609        NaN  \n",
       "39  25.277582  22.624336  23.490671        NaN  \n",
       "40        NaN  31.595255  25.577398        NaN  \n",
       "41        NaN  26.021858  27.773797        NaN  \n",
       "42        NaN  27.976094  25.278663        NaN  \n",
       "43        NaN  32.710696  26.591688        NaN  \n",
       "44        NaN  24.887532  27.289996        NaN  \n",
       "45        NaN  22.869991        NaN        NaN  \n",
       "46        NaN  20.957060        NaN        NaN  \n",
       "47        NaN  21.245406        NaN        NaN  \n",
       "48        NaN  24.963129        NaN        NaN  \n",
       "49        NaN  24.214856        NaN        NaN  \n",
       "50        NaN        NaN        NaN        NaN  "
      ]
     },
     "execution_count": 190,
     "metadata": {},
     "output_type": "execute_result"
    }
   ],
   "source": [
    "first[\"E\"] = df[\"Z1\"]\n",
    "first[\"F\"] = df[\"Z2\"]\n",
    "first[\"G\"] = df[\"Z3\"]\n",
    "first[\"H\"] = df[\"Z4\"]\n",
    "first"
   ]
  },
  {
   "cell_type": "code",
   "execution_count": 191,
   "metadata": {},
   "outputs": [
    {
     "name": "stdout",
     "output_type": "stream",
     "text": [
      "[25.467553036287427, 30.33833372173831, 21.429678503773175, 23.210596459102817, 22.767381501034833, 29.042940418003127, 25.820427885628305, 24.968022166285664, 29.135299604968168, 25.48295987653546, 25.203726813197136, 29.833163984585553, 32.87393219070509, 25.36079654819332, 27.124370439560153, 21.203368937131017, 28.75839590560645, 22.62652805657126, 23.748398866155185, 20.513016983750276, 32.6911601354368, 28.737513907253742, 25.75584466685541, 25.892123352969065, 27.204424163210206, 25.116142473416403, 21.100323187420145, 29.24547579314094, 28.919412847608328, 21.883639141742606, 20.86834746878594, 24.74570073391078, 25.71662725531496]\n"
     ]
    }
   ],
   "source": [
    "a = []\n",
    "b = []\n",
    "c = []\n",
    "d = []\n",
    "for i in range(40):\n",
    "    if i!=0:\n",
    "        a.append(first[\"E\"][i])  \n",
    "a.pop(0)\n",
    "for i in range(50):\n",
    "    if i!=0:\n",
    "        b.append(first[\"F\"][i])  \n",
    "b.pop(0)\n",
    "for i in range(45):\n",
    "    if i!=0:   \n",
    "        c.append(first[\"G\"][i])  \n",
    "c.pop(0)\n",
    "for i in range(35):\n",
    "    if i!=0:\n",
    "        d.append(first[\"H\"][i])  \n",
    "d.pop(0)\n",
    "print(d)"
   ]
  },
  {
   "cell_type": "code",
   "execution_count": 192,
   "metadata": {},
   "outputs": [],
   "source": [
    "x_1 = np.mean(a)\n",
    "x_2 = np.mean(b)\n",
    "x_3 = np.mean(c)\n",
    "x_4 = np.mean(d)\n",
    "x = [x_1,x_2,x_3,x_4]"
   ]
  },
  {
   "cell_type": "code",
   "execution_count": 193,
   "metadata": {},
   "outputs": [
    {
     "data": {
      "text/plain": [
       "[25.31475919545195, 25.557973483713187, 25.626112846715074, 25.84198869775388]"
      ]
     },
     "execution_count": 193,
     "metadata": {},
     "output_type": "execute_result"
    }
   ],
   "source": [
    "sorted(x)"
   ]
  },
  {
   "cell_type": "code",
   "execution_count": 194,
   "metadata": {},
   "outputs": [
    {
     "data": {
      "text/plain": [
       "1.2132168694207408"
      ]
     },
     "execution_count": 194,
     "metadata": {},
     "output_type": "execute_result"
    }
   ],
   "source": [
    "z = np.abs(x[0]-x[1]/x[0]-x[3])\n",
    "z"
   ]
  },
  {
   "cell_type": "code",
   "execution_count": 199,
   "metadata": {},
   "outputs": [
    {
     "data": {
      "text/plain": [
       "1.6448536269514722"
      ]
     },
     "execution_count": 199,
     "metadata": {},
     "output_type": "execute_result"
    }
   ],
   "source": [
    "quant = st.norm.ppf(0.95)\n",
    "quant"
   ]
  },
  {
   "cell_type": "code",
   "execution_count": 197,
   "metadata": {},
   "outputs": [
    {
     "name": "stdout",
     "output_type": "stream",
     "text": [
      "H1\n"
     ]
    }
   ],
   "source": [
    "if z>=quant:\n",
    "    print(\"H0\")\n",
    "else:\n",
    "    print(\"H1\")"
   ]
  },
  {
   "cell_type": "code",
   "execution_count": null,
   "metadata": {},
   "outputs": [],
   "source": []
  }
 ],
 "metadata": {
  "kernelspec": {
   "display_name": "Python 3",
   "language": "python",
   "name": "python3"
  },
  "language_info": {
   "codemirror_mode": {
    "name": "ipython",
    "version": 3
   },
   "file_extension": ".py",
   "mimetype": "text/x-python",
   "name": "python",
   "nbconvert_exporter": "python",
   "pygments_lexer": "ipython3",
   "version": "3.6.4"
  }
 },
 "nbformat": 4,
 "nbformat_minor": 2
}
